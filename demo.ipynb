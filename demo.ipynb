{
 "cells": [
  {
   "cell_type": "code",
   "execution_count": 1,
   "metadata": {},
   "outputs": [],
   "source": [
    "import pandas as pd\n",
    "\n",
    "from ned import NED"
   ]
  },
  {
   "cell_type": "code",
   "execution_count": 2,
   "metadata": {},
   "outputs": [],
   "source": [
    "concepts = pd.read_parquet('ds_project_concepts_entities.parquet')\n",
    "ned_model = NED()"
   ]
  },
  {
   "cell_type": "code",
   "execution_count": 3,
   "metadata": {},
   "outputs": [
    {
     "name": "stdout",
     "output_type": "stream",
     "text": [
      "{'Herb': 0.4, 'Species': 0.38, 'Oil': 0.3, 'Product': 0.25, 'Ingredient': 0.24}\n"
     ]
    }
   ],
   "source": [
    "print(ned_model.predict_entities(concepts, 'eucalyptus'))"
   ]
  }
 ],
 "metadata": {
  "interpreter": {
   "hash": "81c297584b5716533179af4f5f371da34065a1802ac362b467bdf9707b45a4f4"
  },
  "kernelspec": {
   "display_name": "Python 3.9.7 ('venv': venv)",
   "language": "python",
   "name": "python3"
  },
  "language_info": {
   "codemirror_mode": {
    "name": "ipython",
    "version": 3
   },
   "file_extension": ".py",
   "mimetype": "text/x-python",
   "name": "python",
   "nbconvert_exporter": "python",
   "pygments_lexer": "ipython3",
   "version": "3.9.7"
  },
  "orig_nbformat": 4
 },
 "nbformat": 4,
 "nbformat_minor": 2
}
